{
 "cells": [
  {
   "cell_type": "code",
   "execution_count": 1,
   "id": "97fefb6b",
   "metadata": {
    "_cell_guid": "b1076dfc-b9ad-4769-8c92-a6c4dae69d19",
    "_uuid": "8f2839f25d086af736a60e9eeb907d3b93b6e0e5",
    "execution": {
     "iopub.execute_input": "2025-01-15T12:26:45.009134Z",
     "iopub.status.busy": "2025-01-15T12:26:45.008808Z",
     "iopub.status.idle": "2025-01-15T12:27:08.664185Z",
     "shell.execute_reply": "2025-01-15T12:27:08.662871Z"
    },
    "papermill": {
     "duration": 23.664499,
     "end_time": "2025-01-15T12:27:08.666771",
     "exception": false,
     "start_time": "2025-01-15T12:26:45.002272",
     "status": "completed"
    },
    "tags": []
   },
   "outputs": [],
   "source": [
    "try:\n",
    "    if installed:\n",
    "        print('Installed')\n",
    "except:\n",
    "    !pip install -q gym[atari,accept-rom-license] ale-py\n",
    "    installed = True"
   ]
  },
  {
   "cell_type": "code",
   "execution_count": 2,
   "id": "f19d9b6d",
   "metadata": {
    "execution": {
     "iopub.execute_input": "2025-01-15T12:27:08.676944Z",
     "iopub.status.busy": "2025-01-15T12:27:08.676550Z",
     "iopub.status.idle": "2025-01-15T12:27:12.998076Z",
     "shell.execute_reply": "2025-01-15T12:27:12.996944Z"
    },
    "papermill": {
     "duration": 4.329029,
     "end_time": "2025-01-15T12:27:13.000268",
     "exception": false,
     "start_time": "2025-01-15T12:27:08.671239",
     "status": "completed"
    },
    "tags": []
   },
   "outputs": [],
   "source": [
    "import cv2\n",
    "import copy\n",
    "import random\n",
    "import gc\n",
    "import gym\n",
    "import numpy as np\n",
    "import torch\n",
    "import ipywidgets as widgets\n",
    "import torch.nn.functional as F\n",
    "import torch.nn as nn\n",
    "import torch.optim as optim\n",
    "import matplotlib.pyplot as plt\n",
    "\n",
    "from gym import spaces\n",
    "from tqdm import tqdm\n",
    "from collections import deque\n",
    "from IPython import display\n",
    "from IPython.display import clear_output\n",
    "from matplotlib import animation\n",
    "\n",
    "cv2.ocl.setUseOpenCL(False)\n",
    "device = 'cuda' if torch.cuda.is_available() else 'cpu'"
   ]
  },
  {
   "cell_type": "code",
   "execution_count": 3,
   "id": "6ec87ac1",
   "metadata": {
    "execution": {
     "iopub.execute_input": "2025-01-15T12:27:13.010112Z",
     "iopub.status.busy": "2025-01-15T12:27:13.009629Z",
     "iopub.status.idle": "2025-01-15T12:27:13.017525Z",
     "shell.execute_reply": "2025-01-15T12:27:13.016577Z"
    },
    "papermill": {
     "duration": 0.014805,
     "end_time": "2025-01-15T12:27:13.019409",
     "exception": false,
     "start_time": "2025-01-15T12:27:13.004604",
     "status": "completed"
    },
    "tags": []
   },
   "outputs": [],
   "source": [
    "class Replay_Buffer:\n",
    "    def __init__(self, capacity):\n",
    "        self.buffer = deque(maxlen=capacity)\n",
    "    \n",
    "    def store(self, state, action, new_state, reward, done):\n",
    "        state = np.expand_dims(state, 0)\n",
    "        new_state = np.expand_dims(new_state, 0)\n",
    "        \n",
    "        self.buffer.append([state, action, new_state, reward, done])\n",
    "    \n",
    "    def replay(self, batch_size):\n",
    "        state, action, new_state, reward, done = zip(\n",
    "            *random.sample(self.buffer, batch_size)\n",
    "        )\n",
    "        \n",
    "        return np.concatenate(state), action, np.concatenate(new_state), reward, done\n",
    "    \n",
    "    def __len__(self):\n",
    "        return len(self.buffer)"
   ]
  },
  {
   "cell_type": "code",
   "execution_count": 4,
   "id": "d6f3e2f4",
   "metadata": {
    "execution": {
     "iopub.execute_input": "2025-01-15T12:27:13.028572Z",
     "iopub.status.busy": "2025-01-15T12:27:13.028232Z",
     "iopub.status.idle": "2025-01-15T12:27:14.909265Z",
     "shell.execute_reply": "2025-01-15T12:27:14.908323Z"
    },
    "papermill": {
     "duration": 1.8882,
     "end_time": "2025-01-15T12:27:14.911699",
     "exception": false,
     "start_time": "2025-01-15T12:27:13.023499",
     "status": "completed"
    },
    "tags": []
   },
   "outputs": [
    {
     "data": {
      "image/png": "[encoded data removed]",
      "text/plain": [
       "<Figure size 640x480 with 1 Axes>"
      ]
     },
     "metadata": {},
     "output_type": "display_data"
    }
   ],
   "source": [
    "epsilon_S = 1.0\n",
    "epsilon_E = 0.01\n",
    "epsilon_decay = 30000\n",
    "\n",
    "_epsilon = lambda frame: epsilon_E + (epsilon_S - epsilon_E)*np.exp(-frame/epsilon_decay)\n",
    "plt.plot([_epsilon(frame) for frame in range(1000000)]);"
   ]
  },
  {
   "cell_type": "code",
   "execution_count": 5,
   "id": "333600c6",
   "metadata": {
    "execution": {
     "iopub.execute_input": "2025-01-15T12:27:14.924124Z",
     "iopub.status.busy": "2025-01-15T12:27:14.923804Z",
     "iopub.status.idle": "2025-01-15T12:27:14.956809Z",
     "shell.execute_reply": "2025-01-15T12:27:14.955806Z"
    },
    "papermill": {
     "duration": 0.04105,
     "end_time": "2025-01-15T12:27:14.958732",
     "exception": false,
     "start_time": "2025-01-15T12:27:14.917682",
     "status": "completed"
    },
    "tags": []
   },
   "outputs": [],
   "source": [
    "class NoopResetEnv(gym.Wrapper):\n",
    "    def __init__(self, env, noop_max=30):\n",
    "        \"\"\"Sample initial states by taking random number of no-ops on reset.\n",
    "        No-op is assumed to be action 0.\n",
    "        \"\"\"\n",
    "        gym.Wrapper.__init__(self, env)\n",
    "        self.noop_max = noop_max\n",
    "        self.override_num_noops = None\n",
    "        self.noop_action = 0\n",
    "        assert env.unwrapped.get_action_meanings()[0] == 'NOOP'\n",
    "\n",
    "    def reset(self, **kwargs):\n",
    "        \"\"\" Do no-op action for a number of steps in [1, noop_max].\"\"\"\n",
    "        self.env.reset(**kwargs)\n",
    "        if self.override_num_noops is not None:\n",
    "            noops = self.override_num_noops\n",
    "        else:\n",
    "            noops = self.unwrapped.np_random.integers(1, self.noop_max + 1) #pylint: disable=E1101\n",
    "        assert noops > 0\n",
    "        obs = None\n",
    "        for _ in range(noops):\n",
    "            obs, _, done, _, info = self.env.step(self.noop_action)\n",
    "            if done:\n",
    "                obs = self.env.reset(**kwargs)\n",
    "        return obs, info\n",
    "\n",
    "    def step(self, ac):\n",
    "        return self.env.step(ac)\n",
    "\n",
    "class FireResetEnv(gym.Wrapper):\n",
    "    def __init__(self, env):\n",
    "        \"\"\"Take action on reset for environments that are fixed until firing.\"\"\"\n",
    "        gym.Wrapper.__init__(self, env)\n",
    "        assert env.unwrapped.get_action_meanings()[1] == 'FIRE'\n",
    "        assert len(env.unwrapped.get_action_meanings()) >= 3\n",
    "\n",
    "    def reset(self, **kwargs):\n",
    "        self.env.reset(**kwargs)\n",
    "        obs, _, done, _, info = self.env.step(1)\n",
    "        if done:\n",
    "            self.env.reset(**kwargs)\n",
    "        obs, _, done, _, info = self.env.step(2)\n",
    "        if done:\n",
    "            self.env.reset(**kwargs)\n",
    "        return obs, info\n",
    "\n",
    "    def step(self, ac):\n",
    "        return self.env.step(ac)\n",
    "\n",
    "class EpisodicLifeEnv(gym.Wrapper):\n",
    "    def __init__(self, env):\n",
    "        \"\"\"Make end-of-life == end-of-episode, but only reset on true game over.\n",
    "        Done by DeepMind for the DQN and co. since it helps value estimation.\n",
    "        \"\"\"\n",
    "        gym.Wrapper.__init__(self, env)\n",
    "        self.lives = 0\n",
    "        self.was_real_done  = True\n",
    "\n",
    "    def step(self, action):\n",
    "        obs, reward, done, truncated, info = self.env.step(action)\n",
    "        self.was_real_done = done\n",
    "        # check current lives, make loss of life terminal,\n",
    "        # then update lives to handle bonus lives\n",
    "        lives = self.env.unwrapped.ale.lives()\n",
    "        if lives < self.lives and lives > 0:\n",
    "            # for Qbert sometimes we stay in lives == 0 condtion for a few frames\n",
    "            # so its important to keep lives > 0, so that we only reset once\n",
    "            # the environment advertises done.\n",
    "            done = True\n",
    "        self.lives = lives\n",
    "        return obs, reward, done, truncated, info\n",
    "\n",
    "    def reset(self, **kwargs):\n",
    "        \"\"\"Reset only when lives are exhausted.\n",
    "        This way all states are still reachable even though lives are episodic,\n",
    "        and the learner need not know about any of this behind-the-scenes.\n",
    "        \"\"\"\n",
    "        if self.was_real_done:\n",
    "            obs, info = self.env.reset(**kwargs)\n",
    "        else:\n",
    "            # no-op step to advance from terminal/lost life state\n",
    "            obs, _, _, _, info = self.env.step(0)\n",
    "        self.lives = self.env.unwrapped.ale.lives()\n",
    "        return obs, info\n",
    "\n",
    "class MaxAndSkipEnv(gym.Wrapper):\n",
    "    def __init__(self, env, skip=4):\n",
    "        \"\"\"Return only every `skip`-th frame\"\"\"\n",
    "        gym.Wrapper.__init__(self, env)\n",
    "        # most recent raw observations (for max pooling across time steps)\n",
    "        self._obs_buffer = np.zeros((2,)+env.observation_space.shape, dtype=np.uint8)\n",
    "        self._skip       = skip\n",
    "\n",
    "    def reset(self):\n",
    "        return self.env.reset()\n",
    "\n",
    "    def step(self, action):\n",
    "        \"\"\"Repeat action, sum reward, and max over last observations.\"\"\"\n",
    "        total_reward = 0.0\n",
    "        done = None\n",
    "        for i in range(self._skip):\n",
    "            obs, reward, done, truncated, info = self.env.step(action)\n",
    "            if i == self._skip - 2: self._obs_buffer[0] = obs\n",
    "            if i == self._skip - 1: self._obs_buffer[1] = obs\n",
    "            total_reward += reward\n",
    "            if done:\n",
    "                break\n",
    "        # Note that the observation on the done=True frame\n",
    "        # doesn't matter\n",
    "        max_frame = self._obs_buffer.max(axis=0)\n",
    "\n",
    "        return max_frame, total_reward, done, truncated, info\n",
    "\n",
    "    def reset(self, **kwargs):\n",
    "        return self.env.reset(**kwargs)\n",
    "\n",
    "class ClipRewardEnv(gym.RewardWrapper):\n",
    "    def __init__(self, env):\n",
    "        gym.RewardWrapper.__init__(self, env)\n",
    "\n",
    "    def reward(self, reward):\n",
    "        \"\"\"Bin reward to {+1, 0, -1} by its sign.\"\"\"\n",
    "        return np.sign(reward)\n",
    "\n",
    "class WarpFrame(gym.ObservationWrapper):\n",
    "    def __init__(self, env):\n",
    "        \"\"\"Warp frames to 84x84 as done in the Nature paper and later work.\"\"\"\n",
    "        gym.ObservationWrapper.__init__(self, env)\n",
    "        self.width = 84\n",
    "        self.height = 84\n",
    "        self.observation_space = spaces.Box(low=0, high=255,\n",
    "            shape=(self.height, self.width, 1), dtype=np.uint8)\n",
    "\n",
    "    def observation(self, frame):\n",
    "        frame = cv2.cvtColor(frame, cv2.COLOR_RGB2GRAY)\n",
    "        frame = cv2.resize(frame, (self.width, self.height), interpolation=cv2.INTER_AREA)\n",
    "        return frame[:, :, None]\n",
    "\n",
    "class FrameStack(gym.Wrapper):\n",
    "    def __init__(self, env, k):\n",
    "        \"\"\"Stack k last frames.\n",
    "        Returns lazy array, which is much more memory efficient.\n",
    "        See Also\n",
    "        --------\n",
    "        baselines.common.atari_wrappers.LazyFrames\n",
    "        \"\"\"\n",
    "        gym.Wrapper.__init__(self, env)\n",
    "        self.k = k\n",
    "        self.frames = deque([], maxlen=k)\n",
    "        shp = env.observation_space.shape\n",
    "        self.observation_space = spaces.Box(low=0, high=255, shape=(shp[0], shp[1], shp[2] * k), dtype=np.uint8)\n",
    "\n",
    "    def reset(self):\n",
    "        ob, info = self.env.reset()\n",
    "        for _ in range(self.k):\n",
    "            self.frames.append(ob)\n",
    "        return self._get_ob(), info\n",
    "\n",
    "    def step(self, action):\n",
    "        ob, reward, done, info = self.env.step(action)\n",
    "        self.frames.append(ob)\n",
    "        return self._get_ob(), reward, done, info\n",
    "\n",
    "    def _get_ob(self):\n",
    "        assert len(self.frames) == self.k\n",
    "        return LazyFrames(list(self.frames))\n",
    "\n",
    "class ScaledFloatFrame(gym.ObservationWrapper):\n",
    "    def __init__(self, env):\n",
    "        gym.ObservationWrapper.__init__(self, env)\n",
    "\n",
    "    def observation(self, observation):\n",
    "        # careful! This undoes the memory optimization, use\n",
    "        # with smaller replay buffers only.\n",
    "        return np.array(observation).astype(np.float32) / 255.0\n",
    "\n",
    "class LazyFrames(object):\n",
    "    def __init__(self, frames):\n",
    "        \"\"\"This object ensures that common frames between the observations are only stored once.\n",
    "        It exists purely to optimize memory usage which can be huge for DQN's 1M frames replay\n",
    "        buffers.\n",
    "        This object should only be converted to numpy array before being passed to the model.\n",
    "        You'd not believe how complex the previous solution was.\"\"\"\n",
    "        self._frames = frames\n",
    "        self._out = None\n",
    "\n",
    "    def _force(self):\n",
    "        if self._out is None:\n",
    "            self._out = np.concatenate(self._frames, axis=2)\n",
    "            self._frames = None\n",
    "        return self._out\n",
    "\n",
    "    def __array__(self, dtype=None):\n",
    "        out = self._force()\n",
    "        if dtype is not None:\n",
    "            out = out.astype(dtype)\n",
    "        return out\n",
    "\n",
    "    def __len__(self):\n",
    "        return len(self._force())\n",
    "\n",
    "    def __getitem__(self, i):\n",
    "        return self._force()[i]\n",
    "\n",
    "def make_atari(env_id, render_mode=None):\n",
    "    env = gym.make(env_id, render_mode = render_mode)\n",
    "    assert 'NoFrameskip' in env.spec.id\n",
    "    env = NoopResetEnv(env, noop_max=30)\n",
    "    env = MaxAndSkipEnv(env, skip=4)\n",
    "    return env\n",
    "\n",
    "def wrap_deepmind(env, episode_life=True, clip_rewards=True, frame_stack=False, scale=False):\n",
    "    \"\"\"Configure environment for DeepMind-style Atari.\n",
    "    \"\"\"\n",
    "    if episode_life:\n",
    "        env = EpisodicLifeEnv(env)\n",
    "    if 'FIRE' in env.unwrapped.get_action_meanings():\n",
    "        env = FireResetEnv(env)\n",
    "    env = WarpFrame(env)\n",
    "    if scale:\n",
    "        env = ScaledFloatFrame(env)\n",
    "    if clip_rewards:\n",
    "        env = ClipRewardEnv(env)\n",
    "    if frame_stack:\n",
    "        env = FrameStack(env, 4)\n",
    "    return env\n",
    "\n",
    "\n",
    "\n",
    "class ImageToPyTorch(gym.ObservationWrapper):\n",
    "    \"\"\"\n",
    "    Image shape to num_channels x weight x height\n",
    "    \"\"\"\n",
    "    def __init__(self, env):\n",
    "        super(ImageToPyTorch, self).__init__(env)\n",
    "        old_shape = self.observation_space.shape\n",
    "        self.observation_space = gym.spaces.Box(low=0.0, high=1.0, shape=(old_shape[-1], old_shape[0], old_shape[1]), dtype=np.uint8)\n",
    "\n",
    "    def observation(self, observation):\n",
    "        return np.swapaxes(observation, 2, 0)\n",
    "    \n",
    "\n",
    "def wrap_pytorch(env):\n",
    "    return ImageToPyTorch(env)"
   ]
  },
  {
   "cell_type": "code",
   "execution_count": 6,
   "id": "a1db189f",
   "metadata": {
    "execution": {
     "iopub.execute_input": "2025-01-15T12:27:14.968235Z",
     "iopub.status.busy": "2025-01-15T12:27:14.967948Z",
     "iopub.status.idle": "2025-01-15T12:27:15.280731Z",
     "shell.execute_reply": "2025-01-15T12:27:15.279970Z"
    },
    "papermill": {
     "duration": 0.3198,
     "end_time": "2025-01-15T12:27:15.282714",
     "exception": false,
     "start_time": "2025-01-15T12:27:14.962914",
     "status": "completed"
    },
    "tags": []
   },
   "outputs": [
    {
     "name": "stderr",
     "output_type": "stream",
     "text": [
      "A.L.E: Arcade Learning Environment (version 0.8.1+53f58b7)\n",
      "[Powered by Stella]\n"
     ]
    }
   ],
   "source": [
    "env_id = \"PongNoFrameskip-v4\"\n",
    "env    = make_atari(env_id, render_mode='rgb_array')\n",
    "env    = wrap_deepmind(env)\n",
    "env    = wrap_pytorch(env)"
   ]
  },
  {
   "cell_type": "code",
   "execution_count": 7,
   "id": "7e4676ab",
   "metadata": {
    "execution": {
     "iopub.execute_input": "2025-01-15T12:27:15.293180Z",
     "iopub.status.busy": "2025-01-15T12:27:15.292822Z",
     "iopub.status.idle": "2025-01-15T12:27:15.299682Z",
     "shell.execute_reply": "2025-01-15T12:27:15.298709Z"
    },
    "papermill": {
     "duration": 0.014297,
     "end_time": "2025-01-15T12:27:15.301507",
     "exception": false,
     "start_time": "2025-01-15T12:27:15.287210",
     "status": "completed"
    },
    "tags": []
   },
   "outputs": [],
   "source": [
    "def compute_td_loss(batch_size, device):\n",
    "    state, action, reward, next_state, done = replay_buffer.replay(batch_size)\n",
    "    state      = torch.tensor(state).to(device)\n",
    "    next_state = torch.tensor(np.array(next_state), requires_grad=False).to(device)\n",
    "    action     = torch.LongTensor(action).to(device)\n",
    "    reward     = torch.FloatTensor(reward).to(device)\n",
    "    done       = torch.FloatTensor(done).to(device)\n",
    "\n",
    "    q_values      = model(state)\n",
    "    next_q_values = model(next_state)\n",
    "    \n",
    "    q_value          = q_values.gather(1, action.unsqueeze(1)).squeeze(1)\n",
    "    next_q_value     = next_q_values.max(1)[0]\n",
    "    expected_q_value = reward + gamma * next_q_value * (1 - done)\n",
    "    \n",
    "    loss = (q_value - expected_q_value.data).pow(2).mean()\n",
    "        \n",
    "    optimizer.zero_grad()\n",
    "    loss.backward()\n",
    "    optimizer.step()\n",
    "    \n",
    "    return loss.item()"
   ]
  },
  {
   "cell_type": "code",
   "execution_count": 8,
   "id": "59d57a06",
   "metadata": {
    "execution": {
     "iopub.execute_input": "2025-01-15T12:27:15.311823Z",
     "iopub.status.busy": "2025-01-15T12:27:15.311375Z",
     "iopub.status.idle": "2025-01-15T12:27:26.707479Z",
     "shell.execute_reply": "2025-01-15T12:27:26.706009Z"
    },
    "papermill": {
     "duration": 11.403392,
     "end_time": "2025-01-15T12:27:26.709486",
     "exception": false,
     "start_time": "2025-01-15T12:27:15.306094",
     "status": "completed"
    },
    "tags": []
   },
   "outputs": [
    {
     "name": "stdout",
     "output_type": "stream",
     "text": [
      "Collecting convkan\r\n",
      "  Downloading convkan-0.0.1.2.tar.gz (12 kB)\r\n",
      "  Preparing metadata (setup.py) ... \u001b[?25l-\b \bdone\r\n",
      "\u001b[?25hRequirement already satisfied: torch>=2.3.0 in /opt/conda/lib/python3.10/site-packages (from convkan) (2.4.0)\r\n",
      "Requirement already satisfied: torchvision>=0.18.0 in /opt/conda/lib/python3.10/site-packages (from convkan) (0.19.0)\r\n",
      "Requirement already satisfied: tqdm>=4.66.2 in /opt/conda/lib/python3.10/site-packages (from convkan) (4.66.4)\r\n",
      "Requirement already satisfied: pytest>=6.2.4 in /opt/conda/lib/python3.10/site-packages (from convkan) (8.3.3)\r\n",
      "Requirement already satisfied: iniconfig in /opt/conda/lib/python3.10/site-packages (from pytest>=6.2.4->convkan) (2.0.0)\r\n",
      "Requirement already satisfied: packaging in /opt/conda/lib/python3.10/site-packages (from pytest>=6.2.4->convkan) (21.3)\r\n",
      "Requirement already satisfied: pluggy<2,>=1.5 in /opt/conda/lib/python3.10/site-packages (from pytest>=6.2.4->convkan) (1.5.0)\r\n",
      "Requirement already satisfied: exceptiongroup>=1.0.0rc8 in /opt/conda/lib/python3.10/site-packages (from pytest>=6.2.4->convkan) (1.2.0)\r\n",
      "Requirement already satisfied: tomli>=1 in /opt/conda/lib/python3.10/site-packages (from pytest>=6.2.4->convkan) (2.0.1)\r\n",
      "Requirement already satisfied: filelock in /opt/conda/lib/python3.10/site-packages (from torch>=2.3.0->convkan) (3.15.1)\r\n",
      "Requirement already satisfied: typing-extensions>=4.8.0 in /opt/conda/lib/python3.10/site-packages (from torch>=2.3.0->convkan) (4.12.2)\r\n",
      "Requirement already satisfied: sympy in /opt/conda/lib/python3.10/site-packages (from torch>=2.3.0->convkan) (1.13.3)\r\n",
      "Requirement already satisfied: networkx in /opt/conda/lib/python3.10/site-packages (from torch>=2.3.0->convkan) (3.3)\r\n",
      "Requirement already satisfied: jinja2 in /opt/conda/lib/python3.10/site-packages (from torch>=2.3.0->convkan) (3.1.4)\r\n",
      "Requirement already satisfied: fsspec in /opt/conda/lib/python3.10/site-packages (from torch>=2.3.0->convkan) (2024.6.1)\r\n",
      "Requirement already satisfied: numpy in /opt/conda/lib/python3.10/site-packages (from torchvision>=0.18.0->convkan) (1.26.4)\r\n",
      "Requirement already satisfied: pillow!=8.3.*,>=5.3.0 in /opt/conda/lib/python3.10/site-packages (from torchvision>=0.18.0->convkan) (10.3.0)\r\n",
      "Requirement already satisfied: MarkupSafe>=2.0 in /opt/conda/lib/python3.10/site-packages (from jinja2->torch>=2.3.0->convkan) (2.1.5)\r\n",
      "Requirement already satisfied: pyparsing!=3.0.5,>=2.0.2 in /opt/conda/lib/python3.10/site-packages (from packaging->pytest>=6.2.4->convkan) (3.1.2)\r\n",
      "Requirement already satisfied: mpmath<1.4,>=1.1.0 in /opt/conda/lib/python3.10/site-packages (from sympy->torch>=2.3.0->convkan) (1.3.0)\r\n",
      "Building wheels for collected packages: convkan\r\n",
      "  Building wheel for convkan (setup.py) ... \u001b[?25l-\b \b\\\b \bdone\r\n",
      "\u001b[?25h  Created wheel for convkan: filename=convkan-0.0.1.2-py3-none-any.whl size=12511 sha256=e63fced50bb03750b379d03fb7d4bce0860d2acd154c3c665e8b1e3302c6ded9\r\n",
      "  Stored in directory: /root/.cache/pip/wheels/b3/72/5f/37f32f7b0865ae5af6efe11d87264e8354ff0fea941fb7e9e6\r\n",
      "Successfully built convkan\r\n",
      "Installing collected packages: convkan\r\n",
      "Successfully installed convkan-0.0.1.2\r\n",
      "Note: you may need to restart the kernel to use updated packages.\n"
     ]
    }
   ],
   "source": [
    "pip install convkan"
   ]
  },
  {
   "cell_type": "code",
   "execution_count": 9,
   "id": "8183262c",
   "metadata": {
    "execution": {
     "iopub.execute_input": "2025-01-15T12:27:26.722014Z",
     "iopub.status.busy": "2025-01-15T12:27:26.721284Z",
     "iopub.status.idle": "2025-01-15T12:27:36.257057Z",
     "shell.execute_reply": "2025-01-15T12:27:36.255833Z"
    },
    "papermill": {
     "duration": 9.544172,
     "end_time": "2025-01-15T12:27:36.259029",
     "exception": false,
     "start_time": "2025-01-15T12:27:26.714857",
     "status": "completed"
    },
    "tags": []
   },
   "outputs": [
    {
     "name": "stdout",
     "output_type": "stream",
     "text": [
      "Collecting torchsummary\r\n",
      "  Downloading torchsummary-1.5.1-py3-none-any.whl.metadata (296 bytes)\r\n",
      "Downloading torchsummary-1.5.1-py3-none-any.whl (2.8 kB)\r\n",
      "Installing collected packages: torchsummary\r\n",
      "Successfully installed torchsummary-1.5.1\r\n",
      "Note: you may need to restart the kernel to use updated packages.\n"
     ]
    }
   ],
   "source": [
    "pip install torchsummary"
   ]
  },
  {
   "cell_type": "code",
   "execution_count": 10,
   "id": "f2f3a116",
   "metadata": {
    "execution": {
     "iopub.execute_input": "2025-01-15T12:27:36.271164Z",
     "iopub.status.busy": "2025-01-15T12:27:36.270840Z",
     "iopub.status.idle": "2025-01-15T12:27:36.280515Z",
     "shell.execute_reply": "2025-01-15T12:27:36.279805Z"
    },
    "papermill": {
     "duration": 0.017875,
     "end_time": "2025-01-15T12:27:36.282243",
     "exception": false,
     "start_time": "2025-01-15T12:27:36.264368",
     "status": "completed"
    },
    "tags": []
   },
   "outputs": [],
   "source": [
    "from convkan import ConvKAN, LayerNorm2D, KANLinear"
   ]
  },
  {
   "cell_type": "code",
   "execution_count": 11,
   "id": "d44f5f67",
   "metadata": {
    "execution": {
     "iopub.execute_input": "2025-01-15T12:27:36.293882Z",
     "iopub.status.busy": "2025-01-15T12:27:36.293573Z",
     "iopub.status.idle": "2025-01-15T12:27:36.303676Z",
     "shell.execute_reply": "2025-01-15T12:27:36.302954Z"
    },
    "papermill": {
     "duration": 0.01809,
     "end_time": "2025-01-15T12:27:36.305630",
     "exception": false,
     "start_time": "2025-01-15T12:27:36.287540",
     "status": "completed"
    },
    "tags": []
   },
   "outputs": [],
   "source": [
    "import torch\n",
    "import torch.nn as nn\n",
    "import random\n",
    "\n",
    "class CnnDQN(nn.Module):\n",
    "    def __init__(self, input_shape, num_actions):\n",
    "        super(CnnDQN, self).__init__()\n",
    "        \n",
    "        self.input_shape = input_shape\n",
    "        self.num_actions = num_actions\n",
    "        \n",
    "        self.features = nn.Sequential(\n",
    "            ConvKAN(input_shape[0], 32, kernel_size=8, stride=4),\n",
    "            LayerNorm2D(32),\n",
    "            ConvKAN(32, 64, kernel_size=4, stride=2),\n",
    "            LayerNorm2D(64),\n",
    "            ConvKAN(64, 64, kernel_size=3, stride=1),\n",
    "            nn.AdaptiveAvgPool2d(1),\n",
    "        )\n",
    "        \n",
    "        # Fully connected layers\n",
    "        self.fc = nn.Sequential(\n",
    "            nn.Linear(self.feature_size(), 128),\n",
    "            nn.Linear(128, self.num_actions)\n",
    "        )\n",
    "        \n",
    "    def forward(self, x):\n",
    "        x = x.float()\n",
    "        x = self.features(x)\n",
    "        x = x.view(x.size(0), -1)  # Flatten the features\n",
    "\n",
    "        # Prepare input for multi-head attention\n",
    "        x = x.unsqueeze(1)  # Add a sequence length dimension\n",
    "        x = x.squeeze(1)  # Remove the sequence length dimension\n",
    "\n",
    "        x = self.fc(x)\n",
    "        return x\n",
    "    \n",
    "    def feature_size(self):\n",
    "        # Compute the flattened feature size\n",
    "        return self.features(torch.zeros(1, *self.input_shape)).reshape(1, -1).size(1)\n",
    "    \n",
    "    def act(self, state, epsilon):\n",
    "        with torch.no_grad():\n",
    "            if random.random() > epsilon:\n",
    "                state = torch.FloatTensor(state).unsqueeze(0)\n",
    "                state = state.to(device)\n",
    "                q_value = self.forward(state)\n",
    "                action = q_value.max(1)[1].item()\n",
    "            else:\n",
    "                action = random.randrange(env.action_space.n)\n",
    "        return action"
   ]
  },
  {
   "cell_type": "code",
   "execution_count": 12,
   "id": "c0eb05bb",
   "metadata": {
    "execution": {
     "iopub.execute_input": "2025-01-15T12:27:36.317607Z",
     "iopub.status.busy": "2025-01-15T12:27:36.317305Z",
     "iopub.status.idle": "2025-01-15T12:27:38.106294Z",
     "shell.execute_reply": "2025-01-15T12:27:38.105431Z"
    },
    "papermill": {
     "duration": 1.797647,
     "end_time": "2025-01-15T12:27:38.108502",
     "exception": false,
     "start_time": "2025-01-15T12:27:36.310855",
     "status": "completed"
    },
    "tags": []
   },
   "outputs": [],
   "source": [
    "model = CnnDQN(env.observation_space.shape, env.action_space.n)\n",
    "\n",
    "model = model.cuda()\n",
    "    \n",
    "optimizer = optim.Adam(model.parameters(), lr=0.00001)\n",
    "\n",
    "replay_initial = 10000\n",
    "replay_buffer = Replay_Buffer(100_000)"
   ]
  },
  {
   "cell_type": "code",
   "execution_count": 13,
   "id": "52467ddd",
   "metadata": {
    "execution": {
     "iopub.execute_input": "2025-01-15T12:27:38.120830Z",
     "iopub.status.busy": "2025-01-15T12:27:38.120333Z",
     "iopub.status.idle": "2025-01-15T12:27:38.126166Z",
     "shell.execute_reply": "2025-01-15T12:27:38.125232Z"
    },
    "papermill": {
     "duration": 0.013971,
     "end_time": "2025-01-15T12:27:38.128063",
     "exception": false,
     "start_time": "2025-01-15T12:27:38.114092",
     "status": "completed"
    },
    "tags": []
   },
   "outputs": [],
   "source": [
    "def plot(frame_idx, rewards, losses, game, game_data):\n",
    "    clear_output(True)\n",
    "    plt.figure(figsize=(20,5))\n",
    "    plt.subplot(131)\n",
    "    plt.title('frame %s. reward: %s' % (frame_idx, np.mean(rewards[-10:])))\n",
    "    plt.plot(rewards)\n",
    "    plt.subplot(132)\n",
    "    plt.title('loss')\n",
    "    plt.plot(losses)\n",
    "    plt.subplot(133)\n",
    "    plt.title(f'ep: {game_data[1]} max step: {game_data[2]}')\n",
    "    plt.imshow(game)\n",
    "    plt.show()"
   ]
  },
  {
   "cell_type": "code",
   "execution_count": 14,
   "id": "3b969434",
   "metadata": {
    "execution": {
     "iopub.execute_input": "2025-01-15T12:27:38.140215Z",
     "iopub.status.busy": "2025-01-15T12:27:38.139404Z",
     "iopub.status.idle": "2025-01-15T14:06:43.515014Z",
     "shell.execute_reply": "2025-01-15T14:06:43.514083Z"
    },
    "papermill": {
     "duration": 5945.387096,
     "end_time": "2025-01-15T14:06:43.520300",
     "exception": false,
     "start_time": "2025-01-15T12:27:38.133204",
     "status": "completed"
    },
    "tags": []
   },
   "outputs": [
    {
     "data": {
      "image/png": "[encoded data removed]",
      "text/plain": [
       "<Figure size 2000x500 with 3 Axes>"
      ]
     },
     "metadata": {},
     "output_type": "display_data"
    },
    {
     "name": "stderr",
     "output_type": "stream",
     "text": [
      "100%|██████████| 100000/100000 [1:39:05<00:00, 16.82it/s]\n"
     ]
    }
   ],
   "source": [
    "num_frames = 100_000\n",
    "batch_size = 32\n",
    "gamma      = 0.99\n",
    "\n",
    "losses = []\n",
    "all_rewards = []\n",
    "episode_reward = 0\n",
    "step = 0\n",
    "ep = 0\n",
    "max_steps = 0\n",
    "\n",
    "state, _ = env.reset()\n",
    "for frame_idx in tqdm(range(1, num_frames + 1)):\n",
    "    \n",
    "    epsilon = _epsilon(frame_idx)\n",
    "    action = model.act(state, epsilon)\n",
    "    \n",
    "    next_state, reward, done, _, _ = env.step(action)\n",
    "    replay_buffer.store(state, action, reward, next_state, float(done))\n",
    "    \n",
    "    state = next_state\n",
    "    episode_reward += reward\n",
    "    step += 1\n",
    "    \n",
    "    if done:\n",
    "        state, _ = env.reset()\n",
    "        all_rewards.append(episode_reward)\n",
    "        episode_reward = 0\n",
    "        max_steps = max(step, max_steps)\n",
    "        step = 0\n",
    "        ep += 1\n",
    "        gc.collect()\n",
    "        \n",
    "    if len(replay_buffer) > replay_initial:\n",
    "        loss = compute_td_loss(batch_size, device)\n",
    "        losses.append(loss)\n",
    "      \n",
    "    if frame_idx % 10000 == 0:\n",
    "        rgb_array = env.render();\n",
    "        plot(frame_idx, all_rewards, losses, rgb_array, (step, ep, max_steps))"
   ]
  },
  {
   "cell_type": "code",
   "execution_count": 15,
   "id": "ecf7c242",
   "metadata": {
    "execution": {
     "iopub.execute_input": "2025-01-15T14:06:43.535246Z",
     "iopub.status.busy": "2025-01-15T14:06:43.534944Z",
     "iopub.status.idle": "2025-01-15T14:06:43.547901Z",
     "shell.execute_reply": "2025-01-15T14:06:43.547196Z"
    },
    "papermill": {
     "duration": 0.022413,
     "end_time": "2025-01-15T14:06:43.549673",
     "exception": false,
     "start_time": "2025-01-15T14:06:43.527260",
     "status": "completed"
    },
    "tags": []
   },
   "outputs": [],
   "source": [
    "with open('losses.npy', 'wb') as f:\n",
    "    np.save(f, np.array(losses))\n",
    "with open('losses.npy', 'rb') as f:\n",
    "    a = np.load(f)"
   ]
  },
  {
   "cell_type": "code",
   "execution_count": 16,
   "id": "32ae1369",
   "metadata": {
    "execution": {
     "iopub.execute_input": "2025-01-15T14:06:43.564833Z",
     "iopub.status.busy": "2025-01-15T14:06:43.564204Z",
     "iopub.status.idle": "2025-01-15T14:06:43.569351Z",
     "shell.execute_reply": "2025-01-15T14:06:43.568627Z"
    },
    "papermill": {
     "duration": 0.014452,
     "end_time": "2025-01-15T14:06:43.570967",
     "exception": false,
     "start_time": "2025-01-15T14:06:43.556515",
     "status": "completed"
    },
    "tags": []
   },
   "outputs": [],
   "source": [
    "with open('all_rewards.npy', 'wb') as f:\n",
    "    np.save(f, np.array(all_rewards))\n",
    "with open('all_rewards.npy', 'rb') as f:\n",
    "    b = np.load(f)"
   ]
  },
  {
   "cell_type": "code",
   "execution_count": 17,
   "id": "58242074",
   "metadata": {
    "execution": {
     "iopub.execute_input": "2025-01-15T14:06:43.585267Z",
     "iopub.status.busy": "2025-01-15T14:06:43.585026Z",
     "iopub.status.idle": "2025-01-15T14:06:46.342419Z",
     "shell.execute_reply": "2025-01-15T14:06:46.341186Z"
    },
    "papermill": {
     "duration": 2.768579,
     "end_time": "2025-01-15T14:06:46.346206",
     "exception": false,
     "start_time": "2025-01-15T14:06:43.577627",
     "status": "completed"
    },
    "tags": []
   },
   "outputs": [
    {
     "data": {
      "image/png": "[encoded data removed]",
      "text/plain": [
       "<Figure size 160x210 with 1 Axes>"
      ]
     },
     "metadata": {},
     "output_type": "display_data"
    }
   ],
   "source": [
    "def save_frames_as_gif(frames, path='./', filename='gym_animation.gif'):\n",
    "\n",
    "    #Mess with this to change frame size\n",
    "    plt.figure(figsize=(frames[0].shape[1] / 72.0, frames[0].shape[0] / 72.0), dpi=72)\n",
    "\n",
    "    patch = plt.imshow(frames[0])\n",
    "    plt.axis('off')\n",
    "\n",
    "    def animate(i):\n",
    "        patch.set_data(frames[i])\n",
    "\n",
    "    anim = animation.FuncAnimation(plt.gcf(), animate, frames = len(frames), interval=10)\n",
    "\n",
    "    anim.save(path + filename, writer='imagemagick', fps=6)\n",
    "    \n",
    "\n",
    "\n",
    "state, _ = env.reset()\n",
    "frames = []\n",
    "for t in tqdm(range(1000)):\n",
    "    #Render to frames buffer\n",
    "    frames.append(env.render())\n",
    "    action = model.act(state, epsilon)\n",
    "    state, _, done, _, _ = env.step(action)\n",
    "    if done:\n",
    "        break\n",
    "\n",
    "save_frames_as_gif(frames)\n",
    "clear_output(wait=True)"
   ]
  },
  {
   "cell_type": "code",
   "execution_count": 18,
   "id": "fcf936c2",
   "metadata": {
    "execution": {
     "iopub.execute_input": "2025-01-15T14:06:46.387576Z",
     "iopub.status.busy": "2025-01-15T14:06:46.386165Z",
     "iopub.status.idle": "2025-01-15T14:06:46.402976Z",
     "shell.execute_reply": "2025-01-15T14:06:46.401972Z"
    },
    "papermill": {
     "duration": 0.041055,
     "end_time": "2025-01-15T14:06:46.406633",
     "exception": false,
     "start_time": "2025-01-15T14:06:46.365578",
     "status": "completed"
    },
    "tags": []
   },
   "outputs": [
    {
     "data": {
      "application/vnd.jupyter.widget-view+json": {
       "model_id": "da77c18c7fa7412bafa8e319fb8fde66",
       "version_major": 2,
       "version_minor": 0
      },
      "text/plain": [
       "Image(value=b'GIF89a\\xa0\\x00\\xd2\\x00\\x84\\x00\\x00\\x90H\\x11\\xff\\xff\\xff\\xec\\xec\\xec\\xa3h;\\xaf\\x7fZ\\xbd\\x98|\\\\\\xb…"
      ]
     },
     "metadata": {},
     "output_type": "display_data"
    }
   ],
   "source": [
    "gif_file = './gym_animation.gif'\n",
    "file = open(gif_file, \"rb\")\n",
    "image = file.read()\n",
    "widgets.Image(\n",
    "    value=image,\n",
    "    format='png',\n",
    "    width=300,\n",
    "    height=400,\n",
    ")"
   ]
  },
  {
   "cell_type": "code",
   "execution_count": 19,
   "id": "a42c2839",
   "metadata": {
    "execution": {
     "iopub.execute_input": "2025-01-15T14:06:46.445977Z",
     "iopub.status.busy": "2025-01-15T14:06:46.444998Z",
     "iopub.status.idle": "2025-01-15T14:06:46.463966Z",
     "shell.execute_reply": "2025-01-15T14:06:46.463244Z"
    },
    "papermill": {
     "duration": 0.040416,
     "end_time": "2025-01-15T14:06:46.465593",
     "exception": false,
     "start_time": "2025-01-15T14:06:46.425177",
     "status": "completed"
    },
    "tags": []
   },
   "outputs": [],
   "source": [
    "torch.save(model, 'pingpong_dqn.pth')"
   ]
  }
 ],
 "metadata": {
  "kaggle": {
   "accelerator": "gpu",
   "dataSources": [
    {
     "sourceId": 105585063,
     "sourceType": "kernelVersion"
    }
   ],
   "dockerImageVersionId": 30787,
   "isGpuEnabled": true,
   "isInternetEnabled": true,
   "language": "python",
   "sourceType": "notebook"
  },
  "kernelspec": {
   "display_name": "Python 3",
   "language": "python",
   "name": "python3"
  },
  "language_info": {
   "codemirror_mode": {
    "name": "ipython",
    "version": 3
   },
   "file_extension": ".py",
   "mimetype": "text/x-python",
   "name": "python",
   "nbconvert_exporter": "python",
   "pygments_lexer": "ipython3",
   "version": "3.10.14"
  },
  "papermill": {
   "default_parameters": {},
   "duration": 6006.738706,
   "end_time": "2025-01-15T14:06:48.976715",
   "environment_variables": {},
   "exception": null,
   "input_path": "__notebook__.ipynb",
   "output_path": "__notebook__.ipynb",
   "parameters": {},
   "start_time": "2025-01-15T12:26:42.238009",
   "version": "2.6.0"
  },
  "widgets": {
   "application/vnd.jupyter.widget-state+json": {
    "state": {
     "a3ebecfb8f2d47ac9bc04c11a658537d": {
      "model_module": "@jupyter-widgets/base",
      "model_module_version": "1.2.0",
      "model_name": "LayoutModel",
      "state": {
       "_model_module": "@jupyter-widgets/base",
       "_model_module_version": "1.2.0",
       "_model_name": "LayoutModel",
       "_view_count": null,
       "_view_module": "@jupyter-widgets/base",
       "_view_module_version": "1.2.0",
       "_view_name": "LayoutView",
       "align_content": null,
       "align_items": null,
       "align_self": null,
       "border": null,
       "bottom": null,
       "display": null,
       "flex": null,
       "flex_flow": null,
       "grid_area": null,
       "grid_auto_columns": null,
       "grid_auto_flow": null,
       "grid_auto_rows": null,
       "grid_column": null,
       "grid_gap": null,
       "grid_row": null,
       "grid_template_areas": null,
       "grid_template_columns": null,
       "grid_template_rows": null,
       "height": null,
       "justify_content": null,
       "justify_items": null,
       "left": null,
       "margin": null,
       "max_height": null,
       "max_width": null,
       "min_height": null,
       "min_width": null,
       "object_fit": null,
       "object_position": null,
       "order": null,
       "overflow": null,
       "overflow_x": null,
       "overflow_y": null,
       "padding": null,
       "right": null,
       "top": null,
       "visibility": null,
       "width": null
      }
     },
     "da77c18c7fa7412bafa8e319fb8fde66": {
      "buffers": [
       {
        "data": "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",
        "encoding": "base64",
        "path": [
         "value"
        ]
       }
      ],
      "model_module": "@jupyter-widgets/controls",
      "model_module_version": "1.5.0",
      "model_name": "ImageModel",
      "state": {
       "_dom_classes": [],
       "_model_module": "@jupyter-widgets/controls",
       "_model_module_version": "1.5.0",
       "_model_name": "ImageModel",
       "_view_count": null,
       "_view_module": "@jupyter-widgets/controls",
       "_view_module_version": "1.5.0",
       "_view_name": "ImageView",
       "format": "png",
       "height": "400",
       "layout": "IPY_MODEL_a3ebecfb8f2d47ac9bc04c11a658537d",
       "width": "300"
      }
     }
    },
    "version_major": 2,
    "version_minor": 0
   }
  }
 },
 "nbformat": 4,
 "nbformat_minor": 5
}
